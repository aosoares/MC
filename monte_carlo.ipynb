{
 "cells": [
  {
   "cell_type": "code",
   "execution_count": 1,
   "id": "0e8ac1f4-8106-4ea1-a554-012114216e9c",
   "metadata": {},
   "outputs": [],
   "source": [
    "import numpy as np\n",
    "import numpy.random as rd\n",
    "import numba as nb"
   ]
  },
  {
   "cell_type": "markdown",
   "id": "92389119-6613-46ab-8a8f-10e347869494",
   "metadata": {},
   "source": [
    "# Initial Grid"
   ]
  },
  {
   "cell_type": "code",
   "execution_count": 2,
   "id": "2007a766-70cd-4a56-a0e1-08c8c1a18f95",
   "metadata": {},
   "outputs": [],
   "source": [
    "def spins_generator(N):\n",
    "    \"\"\"\n",
    "    Generates a 2D grid of spins, the X and Y direction are enumerated in the tex file.\n",
    "    \"\"\"\n",
    "    spins = rd.choice(np.array([-1,1]),size = (N,N))\n",
    "    return spins"
   ]
  },
  {
   "cell_type": "markdown",
   "id": "b4235b47-60ca-49fe-99ad-98a7712ab861",
   "metadata": {},
   "source": [
    "# Monte Carlo Energy"
   ]
  },
  {
   "cell_type": "code",
   "execution_count": 3,
   "id": "f85b6b68-d2c9-42df-b5b9-23a72c769ef5",
   "metadata": {},
   "outputs": [],
   "source": [
    "@nb.njit\n",
    "def Hamiltonian_init(grid,J,B):\n",
    "    E =0\n",
    "    N = len(grid)\n",
    "    for X in range(N):\n",
    "        for Y in range(N):\n",
    "            E -= B * grid[X,Y]\n",
    "            E+= 0.25*J*grid[X,Y] * (grid[(X+1)%N,Y] + grid[(X-1)%N,Y])\n",
    "            E+= 0.25*J*grid[X,Y] * (grid[X,(Y+1)%N] + grid[X,(Y-1)%N])\n",
    "            E+= 0.25*J*grid[X,Y] * (grid[(X+1)%N,(Y-1)%N] + grid[(X-1)%N,(Y+1)%N])\n",
    "    return E"
   ]
  },
  {
   "cell_type": "code",
   "execution_count": 4,
   "id": "be1c3f98",
   "metadata": {},
   "outputs": [],
   "source": [
    "@nb.njit\n",
    "def MCV_step(Nsteps,beta,init,J=1,B=0):\n",
    "    \"\"\"\n",
    "    N:= Number of Mc steps;\n",
    "    beta:= inverse temperature;\n",
    "    J = exchange term, set to 1 default\n",
    "    B = magnetic field set to 0 default.\n",
    "    \"\"\"\n",
    "    \n",
    "    N  = len(init)\n",
    "    \n",
    "\n",
    "    #initial_energy\n",
    "    E0 = Hamiltonian_init(init,J,B)\n",
    "    \n",
    "    #variables to compute mean and variance on the fly:\n",
    "    E = E0\n",
    "    varE = 0\n",
    "    dummy = 0\n",
    "    E2 = E0*E0\n",
    "    varE2 = 0\n",
    "    \n",
    "    for k in range(Nsteps):\n",
    "        ## Metropolis step\n",
    "        X,Y = rd.randint(0,N,2)\n",
    "        #calculate the total change of energy:\n",
    "        v  = init[X,Y] * (init[(X+1)%N,Y] + init[(X-1)%N,Y])\n",
    "        v += init[X,Y] * (init[X,(Y+1)%N] + init[X,(Y-1)%N])\n",
    "        v += init[X,Y] * (init[(X+1)%N,(Y-1)%N] + init[(X-1)%N,(Y+1)%N])\n",
    "        \n",
    "        dE = 2*B*init[X,Y] - J*v\n",
    "        \n",
    "        if rd.random() < np.exp(-beta*dE):\n",
    "            E0 += dE\n",
    "            init[X,Y] *= -1\n",
    "        \n",
    "        dummy = (E0-E) \n",
    "        E += dummy/(k+2.)\n",
    "        \n",
    "        varE += dummy*(E0-E)/(k+2.) - varE/(k+2.) \n",
    "    \n",
    "    return E/(N*N),np.sqrt(varE)/(N*N)"
   ]
  },
  {
   "cell_type": "code",
   "execution_count": 5,
   "id": "09202893-da2a-4a6c-b733-2f865574d8ac",
   "metadata": {},
   "outputs": [],
   "source": [
    "@nb.njit\n",
    "def energy_vs_temperature(betas,Nsteps,warmup,init,J,B):\n",
    "    size = len(init)\n",
    "    En = np.zeros(len(betas))\n",
    "    stdEn = np.zeros(len(betas))\n",
    "    for i,b in enumerate(betas):\n",
    "        E,stdE = MCV_step(Nsteps,1./b,init,J,B)\n",
    "        En[i] = E\n",
    "        stdEn[i] = stdE\n",
    "    return En,stdEn"
   ]
  }
 ],
 "metadata": {
  "kernelspec": {
   "display_name": "Python 3 (ipykernel)",
   "language": "python",
   "name": "python3"
  },
  "language_info": {
   "codemirror_mode": {
    "name": "ipython",
    "version": 3
   },
   "file_extension": ".py",
   "mimetype": "text/x-python",
   "name": "python",
   "nbconvert_exporter": "python",
   "pygments_lexer": "ipython3",
   "version": "3.10.12"
  }
 },
 "nbformat": 4,
 "nbformat_minor": 5
}
